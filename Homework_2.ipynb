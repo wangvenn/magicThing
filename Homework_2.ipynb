{
 "cells": [
  {
   "cell_type": "markdown",
   "metadata": {},
   "source": [
    "# Homework 2: Tagging and Parsing"
   ]
  },
  {
   "cell_type": "markdown",
   "metadata": {},
   "source": [
    "Student Name: Yiheng Wang\t\n",
    "\n",
    "Student ID: 730536\n",
    "\n",
    "Python version used: 2.7"
   ]
  },
  {
   "cell_type": "markdown",
   "metadata": {},
   "source": [
    "## General info"
   ]
  },
  {
   "cell_type": "markdown",
   "metadata": {},
   "source": [
    "<b>Due date</b>: 5pm, Thursday March 30\n",
    "\n",
    "<b>Submission method</b>: see LMS\n",
    "\n",
    "<b>Submission materials</b>: completed copy of this iPython notebook\n",
    "\n",
    "<b>Late submissions</b>: -20% per day\n",
    "\n",
    "<b>Marks</b>: 5% of mark for class\n",
    "\n",
    "<b>Overview</b>: In this homework, you'll be building a hidden Markov (HMM) part-of-speech tagger and applying it to text. This includes training over labelled text, then prediction (decoding) to tag an unlabelled sentence and evaluating the result. The catch is that you're to do so using algorithms from probabilistic parsing. The HMM is a kind of weighted state-machine, which formally defines a (probablistic) regular language. Context free languages subsume the regular languages, and therefore a HMM is a specific type of PCFG. Your task will be to use this equivalence in order to implement HMM decoding using PCFG parsing routings, and use this for part-of-speech tagging. \n",
    "\n",
    "<b>Materials</b>: See the main class LMS page for information on the basic setup required for this class, including an iPython notebook viewer and the python packages NLTK, Numpy, Scipy, Matplotlib, Scikit-Learn, and Gemsim. In particular, if you are not using a lab computer which already has it installed, we recommend installing all the data for NLTK, since you will need various parts of it to complete this assignment. You can also use any Python built-in packages, but do not use any other 3rd party packages; if your iPython notebook doesn't run on the marker's machine, you will lose marks.  \n",
    "\n",
    "<b>Evaluation</b>: Your iPython notebook should run end-to-end without any errors in a reasonable amount of time, and you must follow all instructions provided below, including specific implementation requirements and instructions for what needs to be printed (please avoid printing output we don't ask for). The amount each section is worth is given in parenthesis after the instructions. You will be marked not only on the correctness of your methods, but also the quality and efficency of your code: in particular, you should be careful to use Python built-in functions and operators when appropriate and pick descriptive variable names that adhere to <a href=\"https://www.python.org/dev/peps/pep-0008/\">Python style requirements</a>. If you think it might be unclear what you are doing, you should comment your code to help the marker make sense of it.\n",
    "\n",
    "<b>Extra credit</b>: Each homework has a task which is optional with respect to getting full marks on the assignment, but that can be used to offset any points lost on this or any other homework assignment (but not the final project or the exam). We recommend you skip over this step on your first pass, and come back if you have time: the amount of effort required to receive full marks (1 point) on an extra credit question will be substantially more than earning the same amount of credit on other parts of the homework.\n",
    "\n",
    "<b>Updates</b>: Any major changes to the assignment will be announced via LMS. Minor changes and clarifications will be announced in the forum on LMS, we recommend you check the forum regularly.\n",
    "\n",
    "<b>Academic Misconduct</b>: For most people, collaboration will form a natural part of the undertaking of this homework, and we encourge you to discuss it in general terms with other students. However, this ultimately is still an individual task, and so reuse of code or other instances of clear influence will be considered cheating. We will be checking submissions for originality and will invoke the University’s <a href=\"http://academichonesty.unimelb.edu.au/policy.html\">Academic Misconduct policy</a> where inappropriate levels of collusion or plagiarism are deemed to have taken place.\n"
   ]
  },
  {
   "cell_type": "markdown",
   "metadata": {},
   "source": [
    "## HMM Tagging"
   ]
  },
  {
   "cell_type": "markdown",
   "metadata": {},
   "source": [
    "<b>Instructions</b>: For this homework we will be using the tagged sentences in the `nltk.corpus.treebank` corpus. You should start by accessing this dataset, using the `tagged_sents` method to access the sentences in the corpus, which are composed of pairs of tokens and their part of speech tags. For this homework, use all the `fileids` for training (we won't both with heldout validation or testing sets for the homework.) For each sentence, add special tokens, `<s>` and `</s>`, to the start and end. You should lower-case the tokens in the text, to limit the number of parameters in the model and allow for better generalisation.\n",
    "\n",
    "Estimate the parameters of a _first order_ HMM tagger over the training partition. First order means that the transition probabilities depend on one previous tag, i.e., the A matrix stores $p(t | t')$ entries, where _t_ and _t'_ are the current and previous tag, respectively. Estimating the parameters (a.k.a. training) means learning the transition (A), observation (O) and starting state (pi) parameter. You will need to compute normalised frequency counts, as described in the lecture (and also the workshop and reading). You may want to store these using special dictionary variants from `collections`, such as `Counter` or `defaultdict`, or use `numpy.array` objects. Don't worry about smoothing the parameters for this homework. \n",
    "\n",
    "You should include in your transition parameters the transition to the `</s>` token, which ends the sequence. You may want to do the same for the `<s>` token, in which case the pi vector can be treated as a special row in A.\n",
    "\n",
    "Your code should print out the following summary numbers: 1) the number of tag types, 2) the number of word tokens and word types (unique words), and 4) the number of parameters in each of A, O, and pi.\n",
    "\n",
    "(1.5 marks)"
   ]
  },
  {
   "cell_type": "code",
   "execution_count": 1,
   "metadata": {},
   "outputs": [
    {
     "name": "stdout",
     "output_type": "stream",
     "text": [
      "The number of tag types is:  48\nThe number of word tokens is:  108504\nThe number of word types is:  11389\nThe number of parameters in A is:  (48, 48)\nnon-zero number in A is:  1047\nThe number of tags in O is:  48\nThe number of words in O is:  11389\nNon-zero number in O is:  13155\nThe number of parameters in Pi is:  48\nNon-zero number in Pi is:  36\n"
     ]
    }
   ],
   "source": [
    "from nltk.corpus import treebank\n",
    "import numpy as np\n",
    "from collections import Counter\n",
    "\n",
    "corpus = treebank.tagged_sents()\n",
    "#this list is used to store all the tags\n",
    "tags = []\n",
    "#this list is used to store all the (word,tag) pairs\n",
    "observation = []\n",
    "#this list is used to store all the words\n",
    "words = []\n",
    "\n",
    "for sent in corpus:\n",
    "    sent.append(('</s>', 'END'))\n",
    "    sent.insert(0,('<s>', 'START'))\n",
    "    for word,tag in sent:\n",
    "        tags.append(tag.lower())\n",
    "        words.append(word.lower())\n",
    "        observation.append((tag.lower(),word.lower()))\n",
    "\n",
    "#this function is used to transfer the list into dictionary\n",
    "def tagToDict(tags):\n",
    "    Dict = {}\n",
    "    for i in tags:\n",
    "        Dict[i] = Dict.get(i,0) + 1\n",
    "    return Dict\n",
    "\n",
    "#this dictionary is used to store all tags and their counts\n",
    "tags_counts = tagToDict(tags)\n",
    "#this list is used to store Unique tags\n",
    "tag_list = tags_counts.keys()\n",
    "#this dictionary is used to store all words and their counts\n",
    "words_counts = tagToDict(words)\n",
    "#this list is used to store Unique words\n",
    "words_list = words_counts.keys()\n",
    "\n",
    "#the following two dicts are used for further (question 2 and 3) usages\n",
    "\n",
    "#this dict is used to store each {(tag1,tag2),Prob(tag1 -> tag2)} pair\n",
    "tag_tag_dict = {}\n",
    "#this dict is used to store each {(tag,word),Prob(tag -> word)} pair\n",
    "tag_word_dict = {}\n",
    "\n",
    "#the matrix of A\n",
    "A = np.zeros((len(tag_list),len(tag_list)))\n",
    "#Here I use Counter to count each (tag,tag_next) pairs\n",
    "countA = 0\n",
    "for (x,y), count in Counter(zip(tags,tags[1:])).iteritems():\n",
    "    prob = float(count)/tags_counts[x]\n",
    "    A[tag_list.index(x),tag_list.index(y)] = prob\n",
    "    tag_tag_dict[(x,y)] = prob\n",
    "    countA += 1\n",
    "\n",
    "#special condition, the next sentence's start will follow with end\n",
    "#thus here we should set this kind of prob = 0\n",
    "A[tag_list.index('end'),tag_list.index('start')] = 0\n",
    "del tag_tag_dict[('end','start')]\n",
    "countA -= 1\n",
    "\n",
    "#the dictionary of Pi\n",
    "pi = dict()\n",
    "countPi = 0\n",
    "for tag in tag_list:\n",
    "    pi[tag] = A[tag_list.index('start'),tag_list.index(tag)]\n",
    "    if pi[tag] != 0:\n",
    "        countPi += 1\n",
    "        \n",
    "countO = 0\n",
    "#the matrix of O\n",
    "O = np.zeros((len(tag_list),len(words_list)))\n",
    "pair = Counter(observation)\n",
    "for tag,word in pair:\n",
    "    prob = float(pair[(tag,word)])/tags_counts[tag]\n",
    "    O[tag_list.index(tag),words_list.index(word)] = prob\n",
    "    tag_word_dict[(tag,word)] = prob\n",
    "    countO += 1\n",
    "\n",
    "#Output\n",
    "print \"The number of tag types is: \",len(tag_list)\n",
    "print \"The number of word tokens is: \",len(words)\n",
    "print \"The number of word types is: \",len(words_list)\n",
    "print \"The number of parameters in A is: \",A.shape\n",
    "print \"non-zero number in A is: \", countA\n",
    "print \"The number of tags in O is: \",O.shape[0]\n",
    "print \"The number of words in O is: \",O.shape[1]\n",
    "print \"Non-zero number in O is: \", countO\n",
    "print \"The number of parameters in Pi is: \",len(pi)\n",
    "print \"Non-zero number in Pi is: \", countPi"
   ]
  },
  {
   "cell_type": "markdown",
   "metadata": {},
   "source": [
    "<b>Instructions</b>: The next part requires thinking about the relationships between formal languages. Recall that the regular languages (including the HMM) are a subset of the context-free languages (PCFGs). Note that although we have _weighted (probabilistic)_ grammars, the same relation still holds. Your challenge is to figure out a _context-free grammar_ that corresponds to the HMM tagger, and the weighting of each production. \n",
    "\n",
    "To help get started, consider a part-of-speech tagged sentence, e.g., _`<s>` Donald/NNP has/VBZ small/JJ hands/NNS_ `</s>`.  The sequence of tags forms a chain, which is already a type of tree. Think about how this tagged sequence is scored by the HMM to compute the joint probability, which might help to figure out what non-terminal symbols you might need and where to attach a special _S_ start symbol.   \n",
    "\n",
    "Use the HMM parameters computed above to construct a PCFG, using the `nltk.grammar.ProbabilisticProduction` and `nltk.grammar.PCFG` classes. This will require you to come up with a 'grammar' representation of the HMM, which you should create directly from your HMM parameters including the HMM probabilities in the PCFG productions. Your grammar should be in Chomsky Normal Form.\n",
    "\n",
    "Finally, implement a probabilistic CYK parser using your tagging _PCFG_. Feel free to cut-and-paste code from the supplied notebooks, although ensure when you do this you clearly specify in comments the source of the code (and if you make changes to the copied code, then use comments to flag these changes.) Apply this \"tagger\" to the test sentence \n",
    "\n",
    "    <s> a dozen dinosaurs debate deals for daily dessert delivery . </s>\n",
    "\n",
    "and print the predicted tree and the sequence of POS tags. During code development you may want to also view the chart.\n",
    "\n",
    "*Note: Depending on how you go about this, you may need to relax the test for grammar validity in the `PCFG` constructor by changing the constant `nltk.grammar.PCFG.EPSILON`.* \n",
    "\n",
    "(2.5 marks)"
   ]
  },
  {
   "cell_type": "code",
   "execution_count": 2,
   "metadata": {},
   "outputs": [
    {
     "name": "stdout",
     "output_type": "stream",
     "text": [
      "True\n"
     ]
    }
   ],
   "source": [
    "#this cell is used to produce the grammar\n",
    "from nltk.grammar import ProbabilisticProduction\n",
    "from nltk.grammar import PCFG\n",
    "from nltk.grammar import Nonterminal\n",
    "\n",
    "productions = []\n",
    "for (lhs,rhs),value in tag_word_dict.iteritems():\n",
    "    if value > 0:\n",
    "        #convert the lhs and rhs to Nonterminal form\n",
    "        lhsX = lhs + \"X\"\n",
    "        lhs = Nonterminal(lhs)\n",
    "        lhsX = Nonterminal(lhsX)\n",
    "        #tagX -> word [probability]\n",
    "        rule = ProbabilisticProduction(lhsX,[rhs],prob=value)\n",
    "        productions.append(rule)\n",
    "\n",
    "for (lhs,rhs),value in tag_tag_dict.iteritems():\n",
    "    if value > 0:\n",
    "        lhsX = lhs + \"X\"\n",
    "        lhs = Nonterminal(lhs)\n",
    "        lhsX = Nonterminal(lhsX)\n",
    "        rhs = Nonterminal(rhs)\n",
    "        #tag -> tagX tag2 [probability]\n",
    "        rule = ProbabilisticProduction(lhs,[lhsX,rhs],prob=value)\n",
    "        productions.append(rule)\n",
    "\n",
    "start = Nonterminal('start')\n",
    "grammar = PCFG(start,productions)\n",
    "#test if the grammar is in Chomsky Normal Form\n",
    "print(grammar.is_chomsky_normal_form())"
   ]
  },
  {
   "cell_type": "code",
   "execution_count": 3,
   "metadata": {},
   "outputs": [],
   "source": [
    "#this function is copied from WSTA_N6_probabilistic_parsing.ipynb\n",
    "#and their is a change (as shown in the following code\n",
    "#I just keep the comment in my changed place\n",
    "from collections import defaultdict\n",
    "import nltk\n",
    "Output = []\n",
    "def build_tree(words, back, symbol, i, j):\n",
    "    backpointer = back[i, j].get(symbol)\n",
    "    if backpointer == None:\n",
    "        #store the POS of the current word\n",
    "        POS = str(symbol).replace(\"X\",\"\")\n",
    "        Output.append(POS)\n",
    "        assert j == i+1\n",
    "        return nltk.tree.Tree(symbol, [words[i]])\n",
    "    else:\n",
    "        k, prod = back[i, j][symbol]\n",
    "        if k != None:\n",
    "            left_subtree = build_tree(words, back, prod.rhs()[0], i=i, j=k)\n",
    "            #change: if we do not reach to the end of the sentence,\n",
    "            #we should call the function again, thus I added the following line\n",
    "            if j != len(words):\n",
    "                right_subtree = build_tree(words, back, prod.rhs()[1], i=k, j=j+1)\n",
    "            else:\n",
    "                right_subtree = build_tree(words, back, prod.rhs()[1], i=k, j=j)\n",
    "                #at the end of the tree, get the POS\n",
    "                print Output\n",
    "            return nltk.tree.Tree(symbol, [left_subtree, right_subtree])\n",
    "        else:\n",
    "            subtree = build_tree(words, back, prod.rhs()[0], i=i, j=j)\n",
    "            return nltk.tree.Tree(symbol, [subtree])\n",
    "\n",
    "#this function is also copied from WSTA_N6_probabilistic_parsing.ipynb\n",
    "#Similarly, I just keep the comment in my changed place\n",
    "def parse_CYK(words, grammar):\n",
    "    table = defaultdict(dict)\n",
    "    back = defaultdict(dict)\n",
    "    for j in range(1, len(words)+1):\n",
    "        token = words[j-1]\n",
    "        for prod in grammar.productions(rhs=token):\n",
    "            if len(prod.rhs()) == 1:\n",
    "                table[j-1,j][prod.lhs()] = prod.prob()\n",
    "\n",
    "        changes = True\n",
    "        cell = table[j-1,j]\n",
    "        while changes:\n",
    "            changes = False\n",
    "            for non_term in list(cell.keys()):\n",
    "                prob = cell[non_term]\n",
    "                for prod in grammar.productions(rhs=non_term):\n",
    "                    if len(prod.rhs()) == 1:\n",
    "                        unary_prob = prod.prob() * prob\n",
    "                        if unary_prob > cell.get(prod.lhs(), 0):\n",
    "                            cell[prod.lhs()] = unary_prob\n",
    "                            back[j-1,j][prod.lhs()] = (None, prod)\n",
    "                            changes = True\n",
    "\n",
    "        for i in range(j-2, -1, -1):\n",
    "            cell = table[i,j]\n",
    "            for k in range(i+1, j):\n",
    "                left_cell = table[i,k]\n",
    "                right_cell = table[k,j]\n",
    "                for left_nt, left_prob in left_cell.items():\n",
    "                    for prod in grammar.productions(rhs=left_nt):\n",
    "                        if len(prod.rhs()) == 2:\n",
    "                            # check if the left and right cells have a valid parse\n",
    "                            #here, in order to follow our grammar's rule,\n",
    "                            #we should change the format of tags\n",
    "                            newTag = str(prod.rhs()[1]) + \"X\"\n",
    "                            right_prob = right_cell.get(Nonterminal(newTag))\n",
    "                            if left_prob != None and right_prob != None:\n",
    "                                prob = prod.prob() * left_prob * right_prob\n",
    "                                if prob > cell.get(prod.lhs(), 0.0):\n",
    "                                    cell[prod.lhs()] = prob\n",
    "                                    back[i,j][prod.lhs()] = (k, prod)\n",
    "\n",
    "    #our backpointer is different, and only the adjacent words are \n",
    "    #connected\n",
    "    return build_tree(words, back, grammar.start(), i=0, j=2)"
   ]
  },
  {
   "cell_type": "code",
   "execution_count": 4,
   "metadata": {},
   "outputs": [
    {
     "name": "stdout",
     "output_type": "stream",
     "text": [
      "['start', 'dt', 'nn', 'nns', 'nn', 'nns', 'in', 'jj', 'nn', 'nn', '.', 'end']\n"
     ]
    },
    {
     "data": {
      "image/png": "[encoded data removed]"
     },
     "output_type": "display_data",
     "text": [
      "Tree(start, [Tree(startX, ['<s>']), Tree(dt, [Tree(dtX, ['a']), Tree(nn, [Tree(nnX, ['dozen']), Tree(nns, [Tree(nnsX, ['dinosaurs']), Tree(nn, [Tree(nnX, ['debate']), Tree(nns, [Tree(nnsX, ['deals']), Tree(in, [Tree(inX, ['for']), Tree(jj, [Tree(jjX, ['daily']), Tree(nn, [Tree(nnX, ['dessert']), Tree(nn, [Tree(nnX, ['delivery']), Tree(., [Tree(.X, ['.']), Tree(end, ['</s>'])])])])])])])])])])])])"
     ],
     "metadata": {}
    }
   ],
   "source": [
    "sentence = '<s> a dozen dinosaurs debate deals for daily dessert delivery . </s>'\n",
    "Output = []\n",
    "parse_CYK(sentence.split(), grammar)"
   ]
  },
  {
   "cell_type": "markdown",
   "metadata": {},
   "source": [
    "**Instructions:** This approach is pretty slow, which you may notice if you apply your method to much longer senentences. Clearly the CYK algorithm is too general, and thus is not optimised for tagging grammars. Your job is to tailor the CYK algorithm to speed up its tagging performance. Start by pasting in a copy of the PCYK function from the notebook, and then make your edits. Please ensure that you clearly mark the parts you have changed with comments. You are free to sacrifice generality of the algorithm, so that it only works for your style of grammar. Are there aspects of your grammar that can be exploited by small changes to the parsing code? Looking carefully at the parse chart might help you to identify these opporunities. \n",
    "\n",
    "Print out the time of running the original CYK parsing for an example sentence, and the time for your improved method (you may want to use the `timeit` library.) Also print the tag predictions for both parsing methods, to verify that they produce the same results.\n",
    "\n",
    "(1 mark)"
   ]
  },
  {
   "cell_type": "code",
   "execution_count": 7,
   "metadata": {},
   "outputs": [],
   "source": [
    "#here I only keep the comments which show my changes.\n",
    "#Firstly, delete the build tree function.\n",
    "import timeit\n",
    "def new_parse_CYK(words, grammar):\n",
    "    #delete the dict of back, it is useless if we just need to find the tag\n",
    "    table = defaultdict(dict)\n",
    "    Output = []\n",
    "    for j in range(1, len(words)+1):\n",
    "        token = words[j-1]\n",
    "        for prod in grammar.productions(rhs=token):\n",
    "            #delete a line, in our case len(prod.rhs()) must be 1\n",
    "            table[j-1,j][prod.lhs()] = prod.prob()\n",
    "\n",
    "        #delete the while loop because in our grammar,\n",
    "        #because when rhs=non_term, len(prod.rhs()) must be 2.\n",
    "        count = 0\n",
    "        tag = ''\n",
    "        final_tag = ''\n",
    "        #here we do not have to use the for loop, because we only care about\n",
    "        #adjacent cells.\n",
    "        if j > 1:\n",
    "            i = j - 2\n",
    "            cell = table[j-2,j]\n",
    "            left_cell = table[i,i+1]\n",
    "            right_cell = table[i+1,j]\n",
    "            for left_nt, left_prob in left_cell.items():\n",
    "                for prod in grammar.productions(rhs=left_nt):\n",
    "                    newTag = str(prod.rhs()[1]) + \"X\"\n",
    "                    right_prob = right_cell.get(Nonterminal(newTag))\n",
    "                    #only need to check right_prob because the left one\n",
    "                    #is always > 0\n",
    "                    if right_prob != None:\n",
    "                        prob = prod.prob() * left_prob * right_prob\n",
    "                        if prob > cell.get(prod.lhs(), 0.0):\n",
    "                            cell[prod.lhs()] = prob\n",
    "                            #store the better tag\n",
    "                            if prob > count:\n",
    "                                count = prob\n",
    "                                tag = prod.lhs()\n",
    "                                if j == len(words):\n",
    "                                    final_tag = prod.rhs()[1]\n",
    "\n",
    "        Output.append(str(tag))\n",
    "    \n",
    "    Output.append(str(final_tag))\n",
    "    del Output[0]\n",
    "    print Output\n",
    "    #our backpointer is different, and only the adjacent words are\n",
    "    #connected\n",
    "    return"
   ]
  },
  {
   "cell_type": "code",
   "execution_count": 9,
   "metadata": {},
   "outputs": [
    {
     "name": "stdout",
     "output_type": "stream",
     "text": [
      "As for the new method:\n['start', 'dt', 'nn', 'nns', 'nn', 'nns', 'in', 'jj', 'nn', 'nn', '.', 'end']\n0.00751996040344\n"
     ]
    }
   ],
   "source": [
    "#as you will see, the new method is about 5 times faster the original one\n",
    "print 'As for the new method:'\n",
    "start = timeit.default_timer()\n",
    "new_parse_CYK(sentence.split(),grammar)\n",
    "end = timeit.default_timer() - start\n",
    "print end"
   ]
  },
  {
   "cell_type": "code",
   "execution_count": 11,
   "metadata": {},
   "outputs": [
    {
     "name": "stdout",
     "output_type": "stream",
     "text": [
      "As for the old method:\n['start', 'dt', 'nn', 'nns', 'nn', 'nns', 'in', 'jj', 'nn', 'nn', '.', 'end']\n0.038763999939\n"
     ]
    }
   ],
   "source": [
    "Output = []\n",
    "print 'As for the old method:'\n",
    "start = timeit.default_timer()\n",
    "parse_CYK(sentence.split(), grammar)\n",
    "end = timeit.default_timer() - start\n",
    "print end"
   ]
  },
  {
   "cell_type": "markdown",
   "metadata": {},
   "source": [
    "## Bonus: higher-order tagging"
   ]
  },
  {
   "cell_type": "markdown",
   "metadata": {},
   "source": [
    "**Instruction:** Implement second order HMM tagger where the transition distribution considers the previous two tags as context, $p(t_i|t_{i-2},t_{i-1})$, in place of the single previous tag in the first order HMM. Feel free to go to even higher orders. You will have to be careful with low count events, as some perfectly valid sequences of three tags may not have been seen in training, so some smoothing will be needed. One simple method is to average the 1st order and 2nd order estimates, i.e., using for transition parameters $0.5 \\times p(t_i|t_{i-2},t_{i-1}) + 0.5 \\times p(t_i|t_{i-1})$. Your implementation should implement this HMM as an equivalent PCFG grammar, which you validate over the test sentence above (or other sentences you make up; but see OOV discussion below). \n",
    "\n",
    "(1 bonus mark) "
   ]
  },
  {
   "cell_type": "code",
   "execution_count": 18,
   "metadata": {},
   "outputs": [],
   "source": [
    "#Firstly, we should get the distribution of each P(ti | t(i-1),t(i-2))\n",
    "#Let's look at the example: P(tag3 | tag2, tag1)\n",
    "#It is equal to: Count(tag3, tag2, tag1) / Count(tag2, tag1)\n",
    "#equal to: Count(tag3, tag2, tag1) / [ P(tag2 | tag1) * Count(tag1)]\n",
    "\n",
    "#Therefore:\n",
    "\n",
    "#step 1: get the distribution\n",
    "\n",
    "#This list is used to store all the successive three tags\n",
    "three_tag_list = []\n",
    "corpus = treebank.tagged_sents()\n",
    "for sent in corpus:\n",
    "    sent.append(('</s>', 'END'))\n",
    "    sent.insert(0,('<s>', 'START'))\n",
    "    if len(sent) > 2:\n",
    "        for i in range(0,len(sent)-2):\n",
    "            three_tag_list.append((sent[i][1].lower(),sent[i+1][1].lower(),sent[i+2][1].lower()))\n",
    "\n",
    "#This dictionary is used to count all the (tag1,tag2,tag3)\n",
    "three_tag_count = tagToDict(three_tag_list)\n",
    "\n",
    "# print three_tag_count\n",
    "\n",
    "#this dictionary is used to store the probabilities of all the (tag1,tag2,tag3)\n",
    "three_tag_dict = {}\n",
    "\n",
    "for (tag1,tag2,tag3) in three_tag_count:\n",
    "    count3 = three_tag_count[(tag1,tag2,tag3)]\n",
    "    a = tag_tag_dict[(tag1,tag2)]\n",
    "    count1 = tags_counts[tag1]\n",
    "    count2 = a * count1\n",
    "    three_tag_dict[(tag1,tag2,tag3)] = count3 / count2"
   ]
  },
  {
   "cell_type": "code",
   "execution_count": 19,
   "metadata": {},
   "outputs": [
    {
     "name": "stdout",
     "output_type": "stream",
     "text": [
      "['start', 'dt', 'nn', 'nns', 'vb', 'nns', 'in', 'jj', 'nn', 'nn', '.', 'end']\n"
     ]
    }
   ],
   "source": [
    "#step 2: change the parser\n",
    "#here the second order parser is based on new_parse_CYK in question 3\n",
    "#Lines with comments are the place I changed the original parse.\n",
    "def second_order_parse_CYK(words, grammar):\n",
    "    table = defaultdict(dict)\n",
    "    Output = []\n",
    "    for j in range(1, len(words)+1):\n",
    "        token = words[j-1]\n",
    "        for prod in grammar.productions(rhs=token):\n",
    "            table[j-1,j][prod.lhs()] = prod.prob()\n",
    "            \n",
    "        count = 0\n",
    "        tag = ''\n",
    "        final_tag = ''\n",
    "\n",
    "        if j > 1:\n",
    "            i = j - 2\n",
    "            cell = table[j-2,j]\n",
    "            left_cell = table[i,i+1]\n",
    "            right_cell = table[i+1,j]   \n",
    "            for left_nt, left_prob in left_cell.items():\n",
    "                for prod in grammar.productions(rhs=left_nt):\n",
    "                    newTag = str(prod.rhs()[1]) + \"X\"\n",
    "                    right_prob = right_cell.get(Nonterminal(newTag))\n",
    "                    if right_prob != None:\n",
    "                        if j == 2:\n",
    "                            prob = prod.prob() * left_prob * right_prob\n",
    "                        else:\n",
    "                            # p1 is p(tag3|tag2)\n",
    "                            p1 = right_prob\n",
    "                            tag1 = Addtag\n",
    "                            tag2 = str(prod.lhs())\n",
    "                            tag3 = str(prod.rhs()[1])\n",
    "                            # p2 is p(tag3|tag2,tag1), if not in the dict,\n",
    "                            # p2 will be set at 0\n",
    "                            p2 = three_tag_dict.get((tag1,tag2,tag3), 0)\n",
    "                            prob = prod.prob() * left_prob * (0.5 * p1 + 0.5 * p2)\n",
    "                        if prob > cell.get(prod.lhs(), 0.0):\n",
    "                            cell[prod.lhs()] = prob\n",
    "                            if prob > count:\n",
    "                                count = prob\n",
    "                                tag = prod.lhs()               \n",
    "                                if j == len(words):\n",
    "                                    final_tag = prod.rhs()[1]\n",
    "            \n",
    "        Addtag = str(tag)\n",
    "        Output.append(Addtag)\n",
    "    \n",
    "    Output.append(str(final_tag))\n",
    "    del Output[0]\n",
    "    print Output\n",
    "    #our backpointer is different, and only the adjacent words are\n",
    "    #connected\n",
    "    return\n",
    "\n",
    "second_order_parse_CYK(sentence.split(), grammar)\n",
    "#As you can see, in this method, the tag of \"debate\" changed into \"VB\""
   ]
  },
  {
   "cell_type": "markdown",
   "metadata": {},
   "source": [
    "## A final word\n",
    "\n",
    "HMMs are not usually implemented as PCFGs, in practice. Instead more tailored and optimised algorithms are used which are specific to the HMM. This homework aims to emphasise the similarities between the two approaches, and elucidate the link between the CYK and Viterbi algorithms.\n",
    "\n",
    "Another important aspect is handling out-of-vocabulary words OOVs, i.e., words encountered in testing but not seen in training. The test sentence above was constructed to avoid this issue, and I suggest that if you test with other sentences, that you keep to the training vocabulary. Dealing with OOVs is out of scope, for now, although we will discuss how these can be handled in various contexts later in the subject."
   ]
  }
 ],
 "metadata": {
  "anaconda-cloud": {},
  "kernelspec": {
   "display_name": "Python 2",
   "language": "python",
   "name": "python2"
  },
  "language_info": {
   "codemirror_mode": {
    "name": "ipython",
    "version": 2.0
   },
   "file_extension": ".py",
   "mimetype": "text/x-python",
   "name": "python",
   "nbconvert_exporter": "python",
   "pygments_lexer": "ipython2",
   "version": "2.7.10"
  }
 },
 "nbformat": 4,
 "nbformat_minor": 0
}